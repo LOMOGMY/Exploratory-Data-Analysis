{
 "cells": [
  {
   "cell_type": "markdown",
   "metadata": {},
   "source": [
    "# 用户画像-案例\n",
    "\n",
    "\n",
    "### 基于用户搜索关键词数据为用户打上标签（年龄，性别，学历）\n",
    "\n",
    "## 整体流程\n",
    "<img src=\"./img/1.png\" alt=\"FAO\" width=\"500\" align=\"right\">\n",
    "### （一）数据预处理\n",
    "* 编码方式转换\n",
    "* 对数据搜索内容进行分词\n",
    "* 词性过滤\n",
    "* 数据检查\n",
    "\n",
    "### （二）特征选择\n",
    "* 建立word2vec词向量模型\n",
    "* 对所有搜索数据求平均向量\n",
    "\n",
    "### （三）建模预测\n",
    "* 不同机器学习模型对比\n",
    "* 堆叠模型"
   ]
  },
  {
   "cell_type": "markdown",
   "metadata": {},
   "source": [
    "### 将原始数据转换成utf-8编码，防止后续出现各种编码问题\n",
    "由于原始数据比较大，在分词与过滤阶段会比较慢，这里我们选择了原始数据中的1W个"
   ]
  },
  {
   "cell_type": "code",
   "execution_count": 1,
   "metadata": {},
   "outputs": [],
   "source": [
    "import csv\n",
    "\n",
    "#原始数据存储路径\n",
    "data_path = './data/user_tag_query.10W.TRAIN' \n",
    "#生成数据路径\n",
    "csvfile = open(data_path + '-1w.csv', 'w')\n",
    "writer = csv.writer(csvfile)\n",
    "writer.writerow(['ID', 'age', 'Gender', 'Education', 'QueryList'])\n",
    "#转换成utf-8编码的格式\n",
    "with open(data_path, 'r',encoding='gb18030',errors='ignore') as f:\n",
    "    lines = f.readlines()\n",
    "    for line in lines[0:10000]:\n",
    "        try:\n",
    "            line.strip()          \n",
    "            data = line.split(\"\\t\")\n",
    "            writedata = [data[0], data[1], data[2], data[3]]\n",
    "            querystr = ''\n",
    "            data[-1]=data[-1][:-1]\n",
    "            for d in data[4:]:\n",
    "                try:\n",
    "                    cur_str = d.encode('utf8')\n",
    "                    cur_str = cur_str.decode('utf8')\n",
    "                    querystr += cur_str + '\\t'\n",
    "                except:\n",
    "                    continue\n",
    "                    #print (data[0][0:10])\n",
    "            querystr = querystr[:-1]\n",
    "            writedata.append(querystr)\n",
    "            writer.writerow(writedata)\n",
    "        except:\n",
    "            #print (data[0][0:20])\n",
    "            continue"
   ]
  },
  {
   "cell_type": "markdown",
   "metadata": {},
   "source": [
    "测试集的编码转换方式同上"
   ]
  },
  {
   "cell_type": "code",
   "execution_count": 2,
   "metadata": {},
   "outputs": [],
   "source": [
    "data_path = './data/user_tag_query.10W.TEST'\n",
    "\n",
    "csvfile = open(data_path + '-1w.csv', 'w')\n",
    "writer = csv.writer(csvfile)\n",
    "writer.writerow(['ID', 'QueryList'])\n",
    "with open(data_path, 'r',encoding='gb18030',errors='ignore') as f:\n",
    "    lines = f.readlines()\n",
    "    for line in lines[0:10000]:\n",
    "        try:\n",
    "            data = line.split(\"\\t\")\n",
    "            writedata = [data[0]]\n",
    "            querystr = ''\n",
    "            data[-1]=data[-1][:-1]\n",
    "            for d in data[1:]:\n",
    "                try:                  \n",
    "                    cur_str = d.encode('utf8')\n",
    "                    cur_str = cur_str.decode('utf8')\n",
    "                    querystr += cur_str + '\\t'               \n",
    "                except:\n",
    "                    #print (data[0][0:10])\n",
    "                    continue\n",
    "            querystr = querystr[:-1]\n",
    "            writedata.append(querystr)\n",
    "            writer.writerow(writedata)\n",
    "        except:\n",
    "            #print (data[0][0:20])\n",
    "            continue"
   ]
  },
  {
   "cell_type": "markdown",
   "metadata": {},
   "source": [
    "### 生成对应的数据表"
   ]
  },
  {
   "cell_type": "code",
   "execution_count": 3,
   "metadata": {},
   "outputs": [
    {
     "name": "stdout",
     "output_type": "stream",
     "text": [
      "<class 'pandas.core.frame.DataFrame'>\n",
      "RangeIndex: 9988 entries, 0 to 9987\n",
      "Data columns (total 5 columns):\n",
      "ID           9988 non-null object\n",
      "age          9988 non-null int64\n",
      "Gender       9988 non-null int64\n",
      "Education    9988 non-null int64\n",
      "QueryList    9988 non-null object\n",
      "dtypes: int64(3), object(2)\n",
      "memory usage: 390.2+ KB\n",
      "None\n",
      "<class 'pandas.core.frame.DataFrame'>\n",
      "RangeIndex: 9978 entries, 0 to 9977\n",
      "Data columns (total 2 columns):\n",
      "ID           9978 non-null object\n",
      "QueryList    9978 non-null object\n",
      "dtypes: object(2)\n",
      "memory usage: 156.0+ KB\n",
      "None\n"
     ]
    }
   ],
   "source": [
    "import pandas as pd\n",
    "\n",
    "#编码转换完成的数据，取的是1W的子集\n",
    "trainname = './data/user_tag_query.10W.TRAIN-1w.csv'\n",
    "testname = './data/user_tag_query.10W.TEST-1w.csv'\n",
    "\n",
    "data = pd.read_csv(trainname,encoding='gbk')\n",
    "print (data.info())\n",
    "\n",
    "#分别生成三种标签数据（性别，年龄，学历）\n",
    "data.age.to_csv(\"./data/train_age.csv\", index=False)\n",
    "data.Gender.to_csv(\"./data/train_gender.csv\", index=False)\n",
    "data.Education.to_csv(\"./data/train_education.csv\", index=False)\n",
    "#将搜索数据单独拿出来\n",
    "data.QueryList.to_csv(\"./data/train_querylist.csv\", index=False)\n",
    "\n",
    "data = pd.read_csv(testname,encoding='gbk')\n",
    "print (data.info())\n",
    "\n",
    "data.QueryList.to_csv(\"./data/test_querylist.csv\", index=False)"
   ]
  },
  {
   "cell_type": "markdown",
   "metadata": {},
   "source": [
    "### 对用户的搜索数据进行分词与词性过滤\n",
    "这里需要分别对训练集和测试集进行相同的操作，路径名字要改动一下"
   ]
  },
  {
   "cell_type": "code",
   "execution_count": 5,
   "metadata": {},
   "outputs": [
    {
     "name": "stderr",
     "output_type": "stream",
     "text": [
      "Building prefix dict from the default dictionary ...\n",
      "Dumping model to file cache C:\\Users\\lomo1\\AppData\\Local\\Temp\\jieba.cache\n",
      "Loading model cost 1.069 seconds.\n",
      "Prefix dict has been built succesfully.\n"
     ]
    },
    {
     "name": "stdout",
     "output_type": "stream",
     "text": [
      "2000 finished\n",
      "4000 finished\n",
      "6000 finished\n",
      "8000 finished\n",
      "total time: 617.490211 s\n"
     ]
    }
   ],
   "source": [
    "import pandas as pd\n",
    "import jieba.analyse\n",
    "import time\n",
    "import jieba\n",
    "import jieba.posseg\n",
    "import os, sys\n",
    "\n",
    "\n",
    "def input(trainname):\n",
    "    traindata = []\n",
    "    with open(trainname, 'rb') as f:\n",
    "        line = f.readline()\n",
    "        count = 0\n",
    "        while line:\n",
    "            try:\n",
    "                traindata.append(line)\n",
    "                count += 1\n",
    "            except:\n",
    "                print (\"error:\", line, count)\n",
    "            line=f.readline()\n",
    "    return traindata\n",
    "start = time.clock()\n",
    "\n",
    "filepath = './data/test_querylist.csv'\n",
    "QueryList = input(filepath)\n",
    "\n",
    "writepath = './data/test_querylist_writefile-1w.csv'\n",
    "csvfile = open(writepath, 'w')\n",
    "\n",
    "POS = {}\n",
    "for i in range(len(QueryList)):\n",
    "    #print (i)\n",
    "    if i%2000 == 0 and i >=1000:\n",
    "        print (i,'finished') \n",
    "    s = []\n",
    "    str = \"\"\n",
    "    words = jieba.posseg.cut(QueryList[i])# 带有词性的精确分词模式\n",
    "    allowPOS = ['n','v','j']\n",
    "    for word, flag in words:\n",
    "        POS[flag]=POS.get(flag,0)+1\n",
    "        if (flag[0] in allowPOS) and len(word)>=2:\n",
    "            str += word + \" \"\n",
    "            \n",
    "    cur_str = str.encode('utf8')\n",
    "    cur_str = cur_str.decode('utf8')\n",
    "    s.append(cur_str)\n",
    "    \n",
    "    csvfile.write(\" \".join(s)+'\\n')\n",
    "csvfile.close()\n",
    "\n",
    "end = time.clock()\n",
    "print (\"total time: %f s\" % (end - start))"
   ]
  },
  {
   "cell_type": "markdown",
   "metadata": {},
   "source": [
    "### 使用Gensim库建立word2vec词向量模型\n",
    "### 参数定义：\n",
    "-  sentences：可以是一个list\n",
    "-  sg： 用于设置训练算法，默认为0，对应CBOW算法；sg=1则采用skip-gram算法。\n",
    "-  size：是指特征向量的维度，默认为100。大的size需要更多的训练数据,但是效果会更好. 推荐值为几十到几百。\n",
    "-  window：表示当前词与预测词在一个句子中的最大距离是多少\n",
    "-  alpha: 是学习速率\n",
    "-  seed：用于随机数发生器。与初始化词向量有关。\n",
    "-  min_count: 可以对字典做截断. 词频少于min_count次数的单词会被丢弃掉, 默认值为5\n",
    "-  max_vocab_size: 设置词向量构建期间的RAM限制。如果所有独立单词个数超过这个，则就消除掉其中最不频繁的一个。每一千万个单词需要大约1GB的RAM。设置成None则没有限制。\n",
    "\n",
    "-  workers参数控制训练的并行数。\n",
    "-  hs: 如果为1则会采用hierarchica·softmax技巧。如果设置为0（defau·t），则negative sampling会被使用。\n",
    "-  negative: 如果>0,则会采用negativesamp·ing，用于设置多少个noise words\n",
    "-  iter： 迭代次数，默认为5"
   ]
  },
  {
   "cell_type": "code",
   "execution_count": 21,
   "metadata": {},
   "outputs": [
    {
     "name": "stderr",
     "output_type": "stream",
     "text": [
      "E:\\Anaconda3\\lib\\site-packages\\gensim\\utils.py:1197: UserWarning: detected Windows; aliasing chunkize to chunkize_serial\n",
      "  warnings.warn(\"detected Windows; aliasing chunkize to chunkize_serial\")\n"
     ]
    }
   ],
   "source": [
    "from gensim.models import word2vec\n",
    "#将数据变换成list of list格式\n",
    "train_path = './data/train_querylist_writefile-1w.csv'\n",
    "with open(train_path, 'r') as f:\n",
    "    My_list = []\n",
    "    lines = f.readlines()\n",
    "    for line in lines:\n",
    "        cur_list = []\n",
    "        line = line.strip()\n",
    "        data = line.split(\" \")\n",
    "        for d in data:\n",
    "            cur_list.append(d)\n",
    "        My_list.append(cur_list)\n",
    "    \n",
    "    model = word2vec.Word2Vec(My_list, size=300, window=10,workers=4)  \n",
    "    savepath = '1w_word2vec_' + '300'+'.model' # 保存model的路径\n",
    "\n",
    "    model.save(savepath)"
   ]
  },
  {
   "cell_type": "code",
   "execution_count": 36,
   "metadata": {},
   "outputs": [
    {
     "name": "stderr",
     "output_type": "stream",
     "text": [
      "E:\\Anaconda3\\lib\\site-packages\\ipykernel_launcher.py:1: DeprecationWarning: Call to deprecated `most_similar` (Method will be removed in 4.0.0, use self.wv.most_similar() instead).\n",
      "  \"\"\"Entry point for launching an IPython kernel.\n"
     ]
    },
    {
     "data": {
      "text/plain": [
       "[('灾厄', 0.8946874737739563),\n",
       " ('苍月', 0.887350857257843),\n",
       " ('摩根', 0.8868879675865173),\n",
       " ('叛徒', 0.8853718638420105),\n",
       " ('爱德华', 0.8781758546829224),\n",
       " ('大麻', 0.8780295848846436),\n",
       " ('神明', 0.8776618242263794),\n",
       " ('张一', 0.8761001825332642),\n",
       " ('温瑞安', 0.8757286071777344),\n",
       " ('迷妹', 0.8735343217849731)]"
      ]
     },
     "execution_count": 36,
     "metadata": {},
     "output_type": "execute_result"
    }
   ],
   "source": [
    "model.most_similar(\"大哥\")"
   ]
  },
  {
   "cell_type": "code",
   "execution_count": 37,
   "metadata": {},
   "outputs": [
    {
     "name": "stderr",
     "output_type": "stream",
     "text": [
      "E:\\Anaconda3\\lib\\site-packages\\ipykernel_launcher.py:1: DeprecationWarning: Call to deprecated `most_similar` (Method will be removed in 4.0.0, use self.wv.most_similar() instead).\n",
      "  \"\"\"Entry point for launching an IPython kernel.\n"
     ]
    },
    {
     "data": {
      "text/plain": [
       "[('清华大学', 0.9328478574752808),\n",
       " ('北京大学', 0.921661913394928),\n",
       " ('特长生', 0.9194291830062866),\n",
       " ('北大', 0.9190258979797363),\n",
       " ('复旦大学', 0.913669228553772),\n",
       " ('中国人民大学', 0.9083595275878906),\n",
       " ('委员', 0.9013963341712952),\n",
       " ('哈佛大学', 0.9010764360427856),\n",
       " ('升学', 0.9006794691085815),\n",
       " ('文艺部', 0.8920862674713135)]"
      ]
     },
     "execution_count": 37,
     "metadata": {},
     "output_type": "execute_result"
    }
   ],
   "source": [
    "model.most_similar(\"清华\")"
   ]
  },
  {
   "cell_type": "markdown",
   "metadata": {},
   "source": [
    "### 加载训练好的word2vec模型，求用户搜索结果的平均向量"
   ]
  },
  {
   "cell_type": "code",
   "execution_count": 41,
   "metadata": {},
   "outputs": [
    {
     "name": "stderr",
     "output_type": "stream",
     "text": [
      "E:\\Anaconda3\\lib\\site-packages\\ipykernel_launcher.py:15: DeprecationWarning: Call to deprecated `__contains__` (Method will be removed in 4.0.0, use self.wv.__contains__() instead).\n",
      "  from ipykernel import kernelapp as app\n",
      "E:\\Anaconda3\\lib\\site-packages\\ipykernel_launcher.py:17: DeprecationWarning: Call to deprecated `__getitem__` (Method will be removed in 4.0.0, use self.wv.__getitem__() instead).\n"
     ]
    }
   ],
   "source": [
    "import gensim\n",
    "import numpy as np\n",
    "file_name = './data/train_querylist_writefile-1w.csv'\n",
    "cur_model = gensim.models.Word2Vec.load('1w_word2vec_300.model')\n",
    "with open(file_name, 'r') as f:\n",
    "    cur_index = 0\n",
    "    lines = f.readlines()\n",
    "    doc_cev = np.zeros((len(lines),300))\n",
    "    for line in lines:\n",
    "        word_vec = np.zeros((1,300))\n",
    "        words = line.strip().split(' ')\n",
    "        wrod_num = 0\n",
    "        #求模型的平均向量\n",
    "        for word in words:\n",
    "            if word in cur_model:\n",
    "                wrod_num += 1\n",
    "                word_vec += np.array([cur_model[word]])\n",
    "        doc_cev[cur_index] = word_vec / float(wrod_num)\n",
    "        cur_index += 1"
   ]
  },
  {
   "cell_type": "code",
   "execution_count": 44,
   "metadata": {},
   "outputs": [
    {
     "data": {
      "text/plain": [
       "(9988, 300)"
      ]
     },
     "execution_count": 44,
     "metadata": {},
     "output_type": "execute_result"
    }
   ],
   "source": [
    "doc_cev.shape"
   ]
  },
  {
   "cell_type": "code",
   "execution_count": 45,
   "metadata": {},
   "outputs": [
    {
     "data": {
      "text/plain": [
       "(9988,)"
      ]
     },
     "execution_count": 45,
     "metadata": {},
     "output_type": "execute_result"
    }
   ],
   "source": [
    "genderlabel = np.loadtxt(open('./data/train_gender.csv', 'r')).astype(int)\n",
    "genderlabel.shape"
   ]
  },
  {
   "cell_type": "code",
   "execution_count": 46,
   "metadata": {},
   "outputs": [
    {
     "data": {
      "text/plain": [
       "(9988,)"
      ]
     },
     "execution_count": 46,
     "metadata": {},
     "output_type": "execute_result"
    }
   ],
   "source": [
    "educationlabel = np.loadtxt(open('./data/train_education.csv', 'r')).astype(int)\n",
    "educationlabel.shape"
   ]
  },
  {
   "cell_type": "code",
   "execution_count": 47,
   "metadata": {},
   "outputs": [
    {
     "data": {
      "text/plain": [
       "(9988,)"
      ]
     },
     "execution_count": 47,
     "metadata": {},
     "output_type": "execute_result"
    }
   ],
   "source": [
    "agelabel = np.loadtxt(open('./data/train_age.csv', 'r')).astype(int)\n",
    "agelabel.shape"
   ]
  },
  {
   "cell_type": "code",
   "execution_count": 50,
   "metadata": {},
   "outputs": [
    {
     "name": "stdout",
     "output_type": "stream",
     "text": [
      "(9756, 300) (9756,)\n",
      "(9815, 300) (9815,)\n",
      "(9064, 300) (9064,)\n"
     ]
    }
   ],
   "source": [
    "def removezero(x, y):\n",
    "        nozero = np.nonzero(y)\n",
    "        y = y[nozero]\n",
    "        x = np.array(x)\n",
    "        x = x[nozero]\n",
    "        return x, y\n",
    "gender_train, genderlabel = removezero(doc_cev, genderlabel)\n",
    "age_train, agelabel = removezero(doc_cev, agelabel)\n",
    "education_train, educationlabel = removezero(doc_cev, educationlabel)\n",
    "print (gender_train.shape,genderlabel.shape)\n",
    "print (age_train.shape,agelabel.shape)\n",
    "print (education_train.shape,educationlabel.shape)"
   ]
  },
  {
   "cell_type": "markdown",
   "metadata": {},
   "source": [
    "### 绘图函数，以性别为例，绘制混淆矩阵"
   ]
  },
  {
   "cell_type": "code",
   "execution_count": 51,
   "metadata": {},
   "outputs": [],
   "source": [
    "import matplotlib.pyplot as plt\n",
    "import itertools\n",
    "def plot_confusion_matrix(cm, classes,\n",
    "                          title='Confusion matrix',\n",
    "                          cmap=plt.cm.Blues):\n",
    "    \"\"\"\n",
    "    This function prints and plots the confusion matrix.\n",
    "    \"\"\"\n",
    "    plt.imshow(cm, interpolation='nearest', cmap=cmap)\n",
    "    plt.title(title)\n",
    "    plt.colorbar()\n",
    "    tick_marks = np.arange(len(classes))\n",
    "    plt.xticks(tick_marks, classes, rotation=0)\n",
    "    plt.yticks(tick_marks, classes)\n",
    "\n",
    "    thresh = cm.max() / 2.\n",
    "    for i, j in itertools.product(range(cm.shape[0]), range(cm.shape[1])):\n",
    "        plt.text(j, i, cm[i, j],\n",
    "                 horizontalalignment=\"center\",\n",
    "                 color=\"white\" if cm[i, j] > thresh else \"black\")\n",
    "\n",
    "    plt.tight_layout()\n",
    "    plt.ylabel('True label')\n",
    "    plt.xlabel('Predicted label')"
   ]
  },
  {
   "cell_type": "markdown",
   "metadata": {},
   "source": [
    "### 测试集的构造方法和训练集一样"
   ]
  },
  {
   "cell_type": "code",
   "execution_count": 52,
   "metadata": {},
   "outputs": [
    {
     "name": "stderr",
     "output_type": "stream",
     "text": [
      "E:\\Anaconda3\\lib\\site-packages\\ipykernel_launcher.py:14: DeprecationWarning: Call to deprecated `__contains__` (Method will be removed in 4.0.0, use self.wv.__contains__() instead).\n",
      "  \n",
      "E:\\Anaconda3\\lib\\site-packages\\ipykernel_launcher.py:16: DeprecationWarning: Call to deprecated `__getitem__` (Method will be removed in 4.0.0, use self.wv.__getitem__() instead).\n",
      "  app.launch_new_instance()\n"
     ]
    }
   ],
   "source": [
    "import numpy as np\n",
    "file_name = './data/test_querylist_writefile-1w.csv'\n",
    "cur_model = gensim.models.Word2Vec.load('1w_word2vec_300.model')\n",
    "with open(file_name, 'r') as f:\n",
    "    cur_index = 0\n",
    "    lines = f.readlines()\n",
    "    doc_cev = np.zeros((len(lines),300))\n",
    "    for line in lines:\n",
    "        word_vec = np.zeros((1,300))\n",
    "        words = line.strip().split(' ')\n",
    "        wrod_num = 0\n",
    "        #求模型的平均向量\n",
    "        for word in words:\n",
    "            if word in cur_model:\n",
    "                wrod_num += 1\n",
    "                word_vec += np.array([cur_model[word]])\n",
    "        doc_cev[cur_index] = word_vec / float(wrod_num)\n",
    "        cur_index += 1"
   ]
  },
  {
   "cell_type": "markdown",
   "metadata": {},
   "source": [
    "### 检查一下数据有木有问题"
   ]
  },
  {
   "cell_type": "code",
   "execution_count": 53,
   "metadata": {},
   "outputs": [
    {
     "data": {
      "text/plain": [
       "(9978, 300)"
      ]
     },
     "execution_count": 53,
     "metadata": {},
     "output_type": "execute_result"
    }
   ],
   "source": [
    "doc_cev.shape"
   ]
  },
  {
   "cell_type": "code",
   "execution_count": 54,
   "metadata": {
    "scrolled": true
   },
   "outputs": [
    {
     "data": {
      "text/plain": [
       "array([-9.25524114e-02, -1.08429363e-01,  2.02125483e-01, -3.81374098e-01,\n",
       "        3.39909847e-01,  1.80289506e-02,  5.84929521e-02, -3.04199876e-01,\n",
       "       -5.44574459e-02, -2.22755916e-01, -3.71586592e-02, -2.58024230e-01,\n",
       "       -4.55392004e-03, -5.26326431e-01, -2.07032850e-01, -1.04809312e-01,\n",
       "        1.35219665e-01,  1.38216157e-01, -3.02577168e-02,  5.51131216e-02,\n",
       "        3.52472196e-02, -3.08656260e-01,  1.77739693e-01, -9.73291053e-02,\n",
       "       -1.18894737e-01,  1.86371336e-01, -8.37501465e-02,  1.36852434e-01,\n",
       "        1.68682465e-01, -5.10337123e-02, -2.80006557e-01, -1.78845235e-01,\n",
       "       -3.32135643e-02, -2.31725154e-03, -6.58900214e-02,  1.90380394e-01,\n",
       "        1.36062450e-01,  1.23377059e-01, -2.30646905e-01, -5.94165186e-01,\n",
       "       -7.12540247e-02, -4.10801640e-02,  1.68106699e-02, -2.03900074e-01,\n",
       "       -2.82240117e-02, -2.90883926e-01, -2.59285577e-01, -2.15492026e-02,\n",
       "       -2.08729135e-01, -4.23674277e-01,  4.47212708e-02, -3.33749245e-01,\n",
       "        3.28004781e-01, -6.58871339e-01,  2.31084354e-01, -1.01748926e-01,\n",
       "       -8.85938438e-02,  9.11965853e-02, -1.51590896e-01,  2.13494447e-01,\n",
       "        9.83531135e-02, -1.35028708e-01, -5.16749866e-02,  1.43193759e-01,\n",
       "        4.49482112e-01, -1.53712780e-01, -2.07264072e-02,  2.76173238e-01,\n",
       "       -1.81029369e-01, -4.42365461e-01, -4.17108221e-01, -1.51303950e-01,\n",
       "        3.12424791e-02, -8.03312934e-02,  7.79962992e-02,  4.94049920e-02,\n",
       "       -1.81254088e-01, -1.15134448e-01,  2.15751405e-01,  1.94613703e-02,\n",
       "        1.97956325e-01,  2.05737693e-01, -7.08690819e-02,  1.24768349e-01,\n",
       "       -1.81506465e-01,  3.70256412e-01,  4.43190080e-02,  4.79877852e-01,\n",
       "        4.47705610e-01,  3.76884232e-01, -2.35301335e-01,  2.46867824e-01,\n",
       "       -5.49987626e-02,  1.59483665e-01, -3.31933094e-03, -3.69544804e-01,\n",
       "       -3.11001578e-01, -2.12361242e-02,  1.47676426e-01, -2.29768497e-01,\n",
       "       -5.23820935e-01, -3.58345386e-01,  4.66111971e-01, -3.14911352e-01,\n",
       "       -1.52551649e-01,  2.38916395e-01,  2.71740059e-01,  1.46648182e-01,\n",
       "       -4.31720780e-01, -8.78107619e-02, -2.39406603e-01,  3.05767094e-02,\n",
       "        2.69223615e-01, -1.27058354e-01,  1.15451076e-01, -5.03420612e-01,\n",
       "       -1.82605312e-01,  3.76346408e-01, -1.16647383e-01, -4.42831844e-01,\n",
       "        8.35358917e-02, -3.38310502e-01, -3.68548806e-02,  3.15348541e-02,\n",
       "       -2.93095141e-01, -3.63159025e-01, -1.66615572e-01,  7.41617180e-02,\n",
       "        9.26295652e-02,  5.08679601e-02,  3.47807987e-01,  2.74465337e-01,\n",
       "       -1.93528460e-01,  1.70766669e-01,  1.61490131e-01, -1.26931027e-01,\n",
       "       -1.40396915e-03, -3.62897581e-02,  1.22961622e-01, -3.59600711e-02,\n",
       "       -1.42380166e-01,  7.27177823e-04, -1.93360294e-01,  4.62123459e-03,\n",
       "       -1.41805706e-01,  2.04477672e-01,  5.12123584e-02,  5.99262358e-02,\n",
       "       -2.01322574e-01, -9.00777981e-02,  3.07352765e-01,  1.68594574e-01,\n",
       "        4.32248997e-01,  5.49079950e-02, -2.67641625e-01, -1.93972806e-01,\n",
       "       -1.35399114e-02, -8.26584615e-01,  1.69544671e-01, -1.47427067e-01,\n",
       "       -6.34488892e-03,  4.86029655e-02,  9.48526675e-02,  2.93672900e-01,\n",
       "        7.28122918e-02,  1.18057800e-01,  1.43556060e-02, -9.23811042e-02,\n",
       "       -4.42917442e-02, -1.13922690e-01,  3.25429883e-01,  2.09825592e-01,\n",
       "       -4.36988992e-02, -1.01536697e-01, -2.12338493e-01,  6.33736401e-02,\n",
       "        2.17497555e-01, -2.20082408e-01,  7.19677068e-03,  4.61041557e-02,\n",
       "       -6.77956360e-03, -1.60172078e-01, -3.62695093e-01, -2.97555378e-01,\n",
       "       -9.55229302e-02,  8.91183307e-02, -2.70739815e-01, -1.93529486e-01,\n",
       "        1.19991438e-01,  2.19534848e-02, -9.18492241e-02,  1.53825774e-01,\n",
       "        2.24588577e-02, -5.43613131e-02,  3.85452528e-01,  1.85289950e-01,\n",
       "       -2.92576838e-01, -1.05658756e-01,  1.02901432e-01, -1.74152441e-01,\n",
       "       -9.44020253e-02, -1.46459918e-01,  2.61019432e-01, -1.51884401e-01,\n",
       "       -1.06244099e-01, -2.65909315e-01, -1.38727708e-01, -1.93051148e-01,\n",
       "        2.23472388e-01, -4.74172030e-02, -4.01291545e-02,  7.81907865e-02,\n",
       "       -5.07076598e-02, -1.60085249e-02,  2.56873219e-01,  2.57302127e-02,\n",
       "        1.43686305e-02, -1.51246730e-01, -9.02224998e-02,  4.17943148e-01,\n",
       "        1.95489668e-02,  1.08718459e-01, -2.37925059e-01,  1.21247681e-01,\n",
       "       -9.29557649e-02,  4.32891326e-03,  3.57398948e-02, -2.40134271e-01,\n",
       "        1.10620578e-01,  3.97220111e-03,  9.39413323e-02,  6.39411354e-01,\n",
       "        1.73796486e-01,  1.57998673e-01, -3.35589047e-01, -3.74861866e-01,\n",
       "       -4.61641487e-02, -1.71013008e-01, -2.90181948e-01, -2.16947394e-01,\n",
       "       -1.44622573e-01, -3.17991806e-01,  2.49997165e-01, -1.24137501e-01,\n",
       "       -4.75617697e-03,  2.75705049e-02,  6.96152822e-02, -5.57905700e-02,\n",
       "        3.77223317e-01, -1.31460150e-01, -1.78617586e-01,  1.51633188e-01,\n",
       "       -8.98332668e-02,  3.92318237e-02, -4.15591705e-01, -1.29295502e-01,\n",
       "       -1.15400656e-01, -1.84713221e-01, -6.71622858e-02,  9.67869096e-02,\n",
       "        5.01438953e-02, -3.09767876e-01, -9.28339713e-03, -9.67349125e-02,\n",
       "        2.92134364e-01,  4.22200037e-01, -2.37820446e-02, -2.92708710e-01,\n",
       "       -3.27381033e-01,  3.75058889e-01,  3.06743576e-01,  2.51507274e-01,\n",
       "        4.40478450e-02, -5.15162958e-01,  4.10248519e-01,  1.99614628e-01,\n",
       "        2.39594947e-01,  6.89331824e-02, -7.19930051e-01,  2.72738890e-01,\n",
       "        2.50794513e-02, -5.69174664e-01,  1.79495904e-01,  1.10110193e-01,\n",
       "       -1.41168718e-01, -9.30448872e-02,  4.02103076e-01, -1.13516828e-01,\n",
       "        1.10394002e-01,  7.93834932e-02, -2.45813070e-01, -1.82888658e-01,\n",
       "        1.51134510e-01,  1.00922961e-01,  2.22142799e-01,  9.23538586e-02,\n",
       "        2.56296797e-02,  1.96291654e-01, -7.05730872e-03, -1.22665962e-01])"
      ]
     },
     "execution_count": 54,
     "metadata": {},
     "output_type": "execute_result"
    }
   ],
   "source": [
    "doc_cev[6]"
   ]
  },
  {
   "cell_type": "markdown",
   "metadata": {},
   "source": [
    "### 建立一个基础预测模型"
   ]
  },
  {
   "cell_type": "code",
   "execution_count": 58,
   "metadata": {},
   "outputs": [
    {
     "name": "stdout",
     "output_type": "stream",
     "text": [
      "0.8022540983606558\n",
      "Recall metric in the testing dataset:  0.7400497512437811\n",
      "accuracy metric in the testing dataset:  0.8022540983606558\n"
     ]
    },
    {
     "data": {
      "image/png": "[encoded data removed]",
      "text/plain": [
       "<Figure size 432x288 with 2 Axes>"
      ]
     },
     "metadata": {},
     "output_type": "display_data"
    },
    {
     "data": {
      "text/plain": [
       "<Figure size 1440x1440 with 0 Axes>"
      ]
     },
     "metadata": {},
     "output_type": "display_data"
    }
   ],
   "source": [
    "from sklearn.linear_model import LogisticRegression\n",
    "from sklearn.metrics import confusion_matrix\n",
    "from sklearn.cross_validation import train_test_split\n",
    "\n",
    "X_train, X_test, y_train, y_test = train_test_split(gender_train,genderlabel,test_size = 0.2, random_state = 0)\n",
    "\n",
    "LR_model = LogisticRegression()\n",
    "\n",
    "LR_model.fit(X_train,y_train)\n",
    "y_pred = LR_model.predict(X_test)\n",
    "print (LR_model.score(X_test,y_test))\n",
    "\n",
    "cnf_matrix = confusion_matrix(y_test,y_pred)\n",
    "\n",
    "print(\"Recall metric in the testing dataset: \", cnf_matrix[1,1]/(cnf_matrix[1,0]+cnf_matrix[1,1]))\n",
    "\n",
    "print(\"accuracy metric in the testing dataset: \", (cnf_matrix[1,1]+cnf_matrix[0,0])/(cnf_matrix[0,0]+cnf_matrix[1,1]+cnf_matrix[1,0]+cnf_matrix[0,1]))\n",
    "\n",
    "# Plot non-normalized confusion matrix\n",
    "class_names = [0,1]\n",
    "plt.figure()\n",
    "plot_confusion_matrix(cnf_matrix\n",
    "                      , classes=class_names\n",
    "                      , title='Gender-Confusion matrix')\n",
    "plt.show()"
   ]
  },
  {
   "cell_type": "code",
   "execution_count": 59,
   "metadata": {},
   "outputs": [
    {
     "name": "stdout",
     "output_type": "stream",
     "text": [
      "0.8058401639344263\n",
      "Recall metric in the testing dataset:  0.7288557213930348\n",
      "accuracy metric in the testing dataset:  0.8058401639344263\n"
     ]
    },
    {
     "data": {
      "image/png": "[encoded data removed]",
      "text/plain": [
       "<Figure size 432x288 with 2 Axes>"
      ]
     },
     "metadata": {},
     "output_type": "display_data"
    }
   ],
   "source": [
    "from sklearn.ensemble import RandomForestClassifier\n",
    "from sklearn.metrics import confusion_matrix\n",
    "from sklearn.cross_validation import train_test_split\n",
    "\n",
    "X_train, X_test, y_train, y_test = train_test_split(gender_train,genderlabel,test_size = 0.2, random_state = 0)\n",
    "\n",
    "RF_model = RandomForestClassifier(n_estimators=100,min_samples_split=5,max_depth=10)\n",
    "\n",
    "RF_model.fit(X_train,y_train)\n",
    "y_pred = RF_model.predict(X_test)\n",
    "print (RF_model.score(X_test,y_test))\n",
    "\n",
    "cnf_matrix = confusion_matrix(y_test,y_pred)\n",
    "\n",
    "print(\"Recall metric in the testing dataset: \", cnf_matrix[1,1]/(cnf_matrix[1,0]+cnf_matrix[1,1]))\n",
    "\n",
    "print(\"accuracy metric in the testing dataset: \", (cnf_matrix[1,1]+cnf_matrix[0,0])/(cnf_matrix[0,0]+cnf_matrix[1,1]+cnf_matrix[1,0]+cnf_matrix[0,1]))\n",
    "\n",
    "# Plot non-normalized confusion matrix\n",
    "class_names = [0,1]\n",
    "plt.figure()\n",
    "plot_confusion_matrix(cnf_matrix\n",
    "                      , classes=class_names\n",
    "                      , title='Gender-Confusion matrix')\n",
    "plt.show()"
   ]
  },
  {
   "cell_type": "markdown",
   "metadata": {},
   "source": [
    "### 堆叠模型\n",
    "<img src=\"./img/2.png\" alt=\"FAO\" width=\"700\" >"
   ]
  },
  {
   "cell_type": "code",
   "execution_count": 61,
   "metadata": {},
   "outputs": [],
   "source": [
    "from sklearn.svm import SVC\n",
    "from sklearn.naive_bayes import MultinomialNB\n",
    "clf1 = RandomForestClassifier(n_estimators=100,min_samples_split=5,max_depth=10)\n",
    "clf2 = SVC()\n",
    "clf3 = LogisticRegression()\n",
    "basemodes = [\n",
    "            ['rf', clf1],\n",
    "            ['svm', clf2],\n",
    "            ['lr', clf3]\n",
    "            ]"
   ]
  },
  {
   "cell_type": "code",
   "execution_count": 62,
   "metadata": {},
   "outputs": [
    {
     "name": "stdout",
     "output_type": "stream",
     "text": [
      "5\n",
      "0.7961065573770492\n"
     ]
    }
   ],
   "source": [
    "from sklearn.cross_validation import KFold, StratifiedKFold\n",
    "models = basemodes\n",
    "\n",
    "#X_train, X_test, y_train, y_test\n",
    "\n",
    "folds = list(KFold(len(y_train), n_folds=5, random_state=0))\n",
    "print (len(folds))\n",
    "S_train = np.zeros((X_train.shape[0], len(models)))\n",
    "S_test = np.zeros((X_test.shape[0], len(models)))\n",
    "\n",
    "for i, bm in enumerate(models):\n",
    "    clf = bm[1]\n",
    "\n",
    "    #S_test_i = np.zeros((y_test.shape[0], len(folds)))\n",
    "    for j, (train_idx, test_idx) in enumerate(folds):\n",
    "        X_train_cv = X_train[train_idx]\n",
    "        y_train_cv = y_train[train_idx]\n",
    "        X_val = X_train[test_idx]\n",
    "        clf.fit(X_train_cv, y_train_cv)\n",
    "        y_val = clf.predict(X_val)[:]\n",
    "          \n",
    "        S_train[test_idx, i] = y_val\n",
    "    S_test[:,i] = clf.predict(X_test)\n",
    "\n",
    "final_clf = RandomForestClassifier(n_estimators=100)\n",
    "final_clf.fit(S_train,y_train)\n",
    "\n",
    "print (final_clf.score(S_test,y_test))\n"
   ]
  }
 ],
 "metadata": {
  "anaconda-cloud": {},
  "kernelspec": {
   "display_name": "Python 3",
   "language": "python",
   "name": "python3"
  },
  "language_info": {
   "codemirror_mode": {
    "name": "ipython",
    "version": 3
   },
   "file_extension": ".py",
   "mimetype": "text/x-python",
   "name": "python",
   "nbconvert_exporter": "python",
   "pygments_lexer": "ipython3",
   "version": "3.5.5"
  },
  "widgets": {
   "state": {},
   "version": "1.1.2"
  }
 },
 "nbformat": 4,
 "nbformat_minor": 1
}
